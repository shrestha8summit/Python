{
 "cells": [
  {
   "cell_type": "code",
   "execution_count": 1,
   "id": "a4d219df",
   "metadata": {},
   "outputs": [
    {
     "name": "stdout",
     "output_type": "stream",
     "text": [
      "ENter the name of the student abcdef\n",
      "Enter the class 15\n",
      "Enter your roll number118\n",
      "Enter your age.18\n",
      "Do you still have more data for input1\n",
      "ENter the name of the student asdewq\n",
      "Enter the class 15\n",
      "Enter your roll number119\n",
      "Enter your age.20\n",
      "Do you still have more data for input0\n",
      "['abcdef', 'asdewq']\n",
      "[15, 15]\n",
      "[118, 119]\n",
      "['abcdef', 'asdewq']\n",
      "[15, 15]\n",
      "[118, 119]\n"
     ]
    }
   ],
   "source": [
    "#declaring list \n",
    "l1 = []\n",
    "l2 = []\n",
    "l3 = []\n",
    "\n",
    "a = 1\n",
    "while a==1:\n",
    "    name  = input(\"ENter the name of the student \")\n",
    "    croom = int(input(\"Enter the class \"))\n",
    "    roll  = int(input(\"Enter your roll number\"))\n",
    "    age = int(input(\"Enter your age.\"))\n",
    "    l1.append(name)\n",
    "    l2.append(croom)\n",
    "    l3.append(roll)\n",
    "    a = int(input(\"Do you still have more data for input\"))\n",
    "    \n",
    "for i in range(0, len(l1)):\n",
    "    print(l1)\n",
    "    print(l2)\n",
    "    print(l3)"
   ]
  },
  {
   "cell_type": "code",
   "execution_count": 1,
   "id": "527fbcc7",
   "metadata": {},
   "outputs": [
    {
     "ename": "SyntaxError",
     "evalue": "expected ':' (1960970255.py, line 12)",
     "output_type": "error",
     "traceback": [
      "\u001b[1;36m  Cell \u001b[1;32mIn[1], line 12\u001b[1;36m\u001b[0m\n\u001b[1;33m    else menu == 3:\u001b[0m\n\u001b[1;37m         ^\u001b[0m\n\u001b[1;31mSyntaxError\u001b[0m\u001b[1;31m:\u001b[0m expected ':'\n"
     ]
    }
   ],
   "source": [
    "import os \n",
    "import shutil \n",
    "\n",
    "def write():\n",
    "    name = input(\"ENter your name\")\n",
    "    roll = int(input(\"ENter your roll number\"))\n",
    "    idd   = int(input(\"ENter your id\"))\n",
    "    marks = int(input(\"Enter your total marks\"))\n",
    "    file = opne(\"record.txt\",\"w+\")\n",
    "    file.write(f\"{name},{roll},{idd},{marks}\")\n",
    "    file.close()\n",
    "\n",
    "def display():\n",
    "    \n",
    "    \n",
    "def menuu():\n",
    "    print(\"Presenting the memu for you\")\n",
    "    menu = int(input(\"1. Adding data \\t 2.Displying data \\t 3.Removing data\"))\n",
    "    if menu == 1:\n",
    "        write()\n",
    "    elif menu ==2:\n",
    "        display()\n",
    "    elif menu == 3:\n",
    "        remove()\n",
    "    else:\n",
    "        menu out of order.\n",
    "        menu()\n",
    "\n",
    "want == 1        \n",
    "while want == 1 :\n",
    "    if(os.path.exits(r\"record.txt\")==0):\n",
    "        menuu()\n",
    "    else:\n",
    "        print(\"We are creating anew file for you.\")\n",
    "        menuu()\n",
    "    want = int(input(\"Do you wnat yo perform other operation too ?\"))     "
   ]
  },
  {
   "cell_type": "code",
   "execution_count": 4,
   "id": "24948f0b",
   "metadata": {},
   "outputs": [
    {
     "name": "stdout",
     "output_type": "stream",
     "text": [
      "* \n",
      "* * \n",
      "* * * \n",
      "* * * * \n",
      "* * * * * \n"
     ]
    }
   ],
   "source": [
    "size = 5  # Change this to control the size of the triangle\n",
    "for i in range(1, size + 1):\n",
    "    for j in range(i):\n",
    "        print(\"*\", end=\" \")\n",
    "    print()\n"
   ]
  },
  {
   "cell_type": "code",
   "execution_count": 6,
   "id": "c9fbd662",
   "metadata": {},
   "outputs": [
    {
     "name": "stdout",
     "output_type": "stream",
     "text": [
      "    * \n",
      "   * * \n",
      "  * * * \n",
      " * * * * \n",
      "* * * * * \n"
     ]
    }
   ],
   "source": [
    "size = 5  # Change this to control the size of the diamond\n",
    "for i in range(1, size + 1):\n",
    "    print(\" \" * (size - i) + \"* \" * i)\n",
    "\n"
   ]
  },
  {
   "cell_type": "code",
   "execution_count": 7,
   "id": "809441e3",
   "metadata": {},
   "outputs": [
    {
     "name": "stdout",
     "output_type": "stream",
     "text": [
      "    * \n",
      "   * * \n",
      "  * * * \n",
      " * * * * \n",
      "* * * * * \n",
      " * * * * \n",
      "  * * * \n",
      "   * * \n",
      "    * \n"
     ]
    }
   ],
   "source": [
    "size = 5  # Change this to control the size of the diamond\n",
    "for i in range(1, size + 1):\n",
    "    print(\" \" * (size - i) + \"* \" * i)\n",
    "for i in range(size - 1, 0, -1):\n",
    "    print(\" \" * (size - i) + \"* \" * i)\n"
   ]
  },
  {
   "cell_type": "code",
   "execution_count": 8,
   "id": "24187991",
   "metadata": {},
   "outputs": [
    {
     "name": "stdout",
     "output_type": "stream",
     "text": [
      "a\n",
      "ab\n",
      "abc\n",
      "abcd\n",
      "abcde\n",
      "abcdef\n"
     ]
    }
   ],
   "source": [
    "letters = 'abcdef'\n",
    "for i in range(1, len(letters) + 1):\n",
    "    print(letters[:i])\n"
   ]
  },
  {
   "cell_type": "code",
   "execution_count": 9,
   "id": "f12633e0",
   "metadata": {},
   "outputs": [
    {
     "name": "stdout",
     "output_type": "stream",
     "text": [
      "a\n",
      "b c\n",
      "d e f\n"
     ]
    },
    {
     "ename": "IndexError",
     "evalue": "string index out of range",
     "output_type": "error",
     "traceback": [
      "\u001b[1;31m---------------------------------------------------------------------------\u001b[0m",
      "\u001b[1;31mIndexError\u001b[0m                                Traceback (most recent call last)",
      "Cell \u001b[1;32mIn[9], line 7\u001b[0m\n\u001b[0;32m      5\u001b[0m row \u001b[38;5;241m=\u001b[39m \u001b[38;5;124m'\u001b[39m\u001b[38;5;124m'\u001b[39m\n\u001b[0;32m      6\u001b[0m \u001b[38;5;28;01mfor\u001b[39;00m j \u001b[38;5;129;01min\u001b[39;00m \u001b[38;5;28mrange\u001b[39m(i):\n\u001b[1;32m----> 7\u001b[0m     row \u001b[38;5;241m+\u001b[39m\u001b[38;5;241m=\u001b[39m letters[current_letter] \u001b[38;5;241m+\u001b[39m \u001b[38;5;124m'\u001b[39m\u001b[38;5;124m \u001b[39m\u001b[38;5;124m'\u001b[39m\n\u001b[0;32m      8\u001b[0m     current_letter \u001b[38;5;241m+\u001b[39m\u001b[38;5;241m=\u001b[39m \u001b[38;5;241m1\u001b[39m\n\u001b[0;32m      9\u001b[0m \u001b[38;5;28mprint\u001b[39m(row\u001b[38;5;241m.\u001b[39mstrip())\n",
      "\u001b[1;31mIndexError\u001b[0m: string index out of range"
     ]
    }
   ],
   "source": [
    "letters = 'abcdef'\n",
    "current_letter = 0\n",
    "\n",
    "for i in range(1, len(letters) + 1):\n",
    "    row = ''\n",
    "    for j in range(i):\n",
    "        row += letters[current_letter] + ' '\n",
    "        current_letter += 1\n",
    "    print(row.strip())\n",
    "\n",
    "    "
   ]
  },
  {
   "cell_type": "code",
   "execution_count": null,
   "id": "00dd40dc",
   "metadata": {},
   "outputs": [],
   "source": []
  }
 ],
 "metadata": {
  "kernelspec": {
   "display_name": "Python 3 (ipykernel)",
   "language": "python",
   "name": "python3"
  },
  "language_info": {
   "codemirror_mode": {
    "name": "ipython",
    "version": 3
   },
   "file_extension": ".py",
   "mimetype": "text/x-python",
   "name": "python",
   "nbconvert_exporter": "python",
   "pygments_lexer": "ipython3",
   "version": "3.11.3"
  }
 },
 "nbformat": 4,
 "nbformat_minor": 5
}
